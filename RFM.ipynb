{
 "cells": [
  {
   "cell_type": "code",
   "execution_count": 1,
   "id": "2bbdb5f2",
   "metadata": {},
   "outputs": [
    {
     "name": "stdout",
     "output_type": "stream",
     "text": [
      "C:\\Users\\91978\\Desktop\n"
     ]
    }
   ],
   "source": [
    "!cd"
   ]
  },
  {
   "cell_type": "code",
   "execution_count": 7,
   "id": "be396ad6",
   "metadata": {},
   "outputs": [
    {
     "name": "stdout",
     "output_type": "stream",
     "text": [
      "F:\\RFM Analysis\n"
     ]
    }
   ],
   "source": [
    "%cd \"F:/RFM Analysis\""
   ]
  },
  {
   "cell_type": "code",
   "execution_count": 9,
   "id": "5688578a",
   "metadata": {},
   "outputs": [
    {
     "name": "stdout",
     "output_type": "stream",
     "text": [
      " Volume in drive F is New Volume\n",
      " Volume Serial Number is 6C06-C762\n",
      "\n",
      " Directory of F:\\RFM Analysis\n",
      "\n",
      "21-06-2024  01:12    <DIR>          .\n",
      "               0 File(s)              0 bytes\n",
      "               1 Dir(s)  194,231,066,624 bytes free\n"
     ]
    }
   ],
   "source": [
    "%ls"
   ]
  },
  {
   "cell_type": "code",
   "execution_count": 10,
   "id": "0b7b64a8",
   "metadata": {},
   "outputs": [
    {
     "name": "stdout",
     "output_type": "stream",
     "text": [
      " Volume in drive F is New Volume\n",
      " Volume Serial Number is 6C06-C762\n",
      "\n",
      " Directory of F:\\RFM Analysis\n",
      "\n",
      "21-06-2024  01:12    <DIR>          .\n",
      "               0 File(s)              0 bytes\n",
      "               1 Dir(s)  194,231,066,624 bytes free\n"
     ]
    }
   ],
   "source": [
    "!dir"
   ]
  },
  {
   "cell_type": "code",
   "execution_count": null,
   "id": "c5dab050",
   "metadata": {},
   "outputs": [],
   "source": []
  }
 ],
 "metadata": {
  "kernelspec": {
   "display_name": "Python 3 (ipykernel)",
   "language": "python",
   "name": "python3"
  },
  "language_info": {
   "codemirror_mode": {
    "name": "ipython",
    "version": 3
   },
   "file_extension": ".py",
   "mimetype": "text/x-python",
   "name": "python",
   "nbconvert_exporter": "python",
   "pygments_lexer": "ipython3",
   "version": "3.9.12"
  }
 },
 "nbformat": 4,
 "nbformat_minor": 5
}
